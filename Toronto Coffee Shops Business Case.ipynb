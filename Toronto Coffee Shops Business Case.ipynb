{
    "nbformat_minor": 1, 
    "cells": [
        {
            "source": "# Introduction/Business Problem", 
            "cell_type": "markdown", 
            "metadata": {
                "collapsed": true
            }
        }, 
        {
            "source": "## Title: Openning a Coffee Shop in Toronto: Starbucks or Tim Hortons?", 
            "cell_type": "markdown", 
            "metadata": {}
        }, 
        {
            "source": "If an entrepreneur wanted to open a coffee shop in Toronto, they'd have to study the market and answer basic questions such as:\n-  What type of coffee shop should I open? A franchise or my own brand?\n-  Where are coffee shops concentrated and why?\n-  What do people think of coffee shops in the area? What are their ratings?\n\nIn the following, we will study the coffee shops in Toronto and understand their locations, ratings and diversity level. We will map the coffee shop locations, show their ratings and classify them based on their venue surrounding. We will give those insights to the entrepreneur to help them better decide on what kind of coffee shop to open and where. \n", 
            "cell_type": "markdown", 
            "metadata": {}
        }, 
        {
            "source": "", 
            "cell_type": "code", 
            "metadata": {}, 
            "outputs": [], 
            "execution_count": null
        }
    ], 
    "metadata": {
        "kernelspec": {
            "display_name": "Python 3.5 with Spark", 
            "name": "python3", 
            "language": "python3"
        }, 
        "language_info": {
            "mimetype": "text/x-python", 
            "nbconvert_exporter": "python", 
            "version": "3.5.4", 
            "name": "python", 
            "pygments_lexer": "ipython3", 
            "file_extension": ".py", 
            "codemirror_mode": {
                "version": 3, 
                "name": "ipython"
            }
        }
    }, 
    "nbformat": 4
}