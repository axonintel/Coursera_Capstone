{
    "nbformat_minor": 1, 
    "cells": [
        {
            "source": "# Data Descriptions", 
            "cell_type": "markdown", 
            "metadata": {
                "collapsed": true
            }
        }, 
        {
            "source": "To understand coffee shops and find what type of coffee shops to open, we will need to gather data as follows:\n\n-  Collect Toronto's neighbourhoods and their locations. Foursquare's lat and long.\n-  Search for all venues in those neighbourhoods. \n-  Identify the coffee shops, their locations and ratings. Foursquare's venue explore functions and rating\n-  Study the coffee shops nearby venues, classify them and find out what areas/features may lead to an opportunity for investments.\n-  Study coffee shops types, franchise or not, and study their statistical characteristics such as their mean rating.\n\nBased on the above study, one can formulate an idea of what makes a coffee shop special and what locations may be ideal for a coffee shop business.", 
            "cell_type": "markdown", 
            "metadata": {}
        }, 
        {
            "source": "Example of the data extracted from Foursquare:\n    \nVenue Total\tMean Rating\n\n-  Starbucks\t24\t7.450000\n-  Tim Hortons\t22\t6.550000\n-  Second Cup\t5\t6.320000\n-  Aroma Espresso Bar\t5\t7.780000\n-  Mos Mos Coffee\t4\t8.600000", 
            "cell_type": "markdown", 
            "metadata": {}
        }, 
        {
            "source": "Example of Coffee shops list:\n\tNeighborhood\tNeighborhood Latitude\tNeighborhood Longitude\tVenue\tVenue Latitude\tVenue Longitude\tVenue Category\tVenue Rating\n9\tWoburn\t43.770992\t-79.216917\tStarbucks\t43.770037\t-79.221156\tCoffee Shop\t6.9\n10\tWoburn\t43.770992\t-79.216917\tTim Hortons\t43.770827\t-79.223078\tCoffee Shop\t6.2\n24\tKennedy Park,Ionview,East Birchmount Park\t43.727929\t-79.262029\tTim Hortons\t43.726895\t-79.266157\tCoffee Shop\t5.9\n72\tSteeles East,Agincourt North,Milliken,L'Amorea...\t43.815252\t-79.284577\tLickety's\t43.816136\t-79.287944\tCoffee Shop\tNaN\n79\tSteeles West,L'Amoreaux West\t43.799525\t-79.318389\tTim Hortons\t43.798281\t-79.318317\tCoffee Shop\t6.2", 
            "cell_type": "raw", 
            "metadata": {}
        }, 
        {
            "source": "", 
            "cell_type": "code", 
            "metadata": {}, 
            "outputs": [], 
            "execution_count": null
        }
    ], 
    "metadata": {
        "kernelspec": {
            "display_name": "Python 3.5 with Spark", 
            "name": "python3", 
            "language": "python3"
        }, 
        "language_info": {
            "mimetype": "text/x-python", 
            "nbconvert_exporter": "python", 
            "version": "3.5.4", 
            "name": "python", 
            "pygments_lexer": "ipython3", 
            "file_extension": ".py", 
            "codemirror_mode": {
                "version": 3, 
                "name": "ipython"
            }
        }
    }, 
    "nbformat": 4
}