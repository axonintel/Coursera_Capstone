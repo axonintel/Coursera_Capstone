{
    "nbformat_minor": 1, 
    "cells": [
        {
            "source": "# Data Descriptions", 
            "cell_type": "markdown", 
            "metadata": {
                "collapsed": true
            }
        }, 
        {
            "source": "To understand coffee shops and find what type of coffee shops to open, we will need to gather data as follows:\n\n-  Collect Toronto's neighbourhoods and their locations. Foursquare's lat and long.\n-  Search for all venues in those neighbourhoods. \n-  Identify the coffee shops, their locations and ratings. Foursquare's venue explore functions and rating\n-  Study the coffee shops nearby venues, classify them and find out what areas/features may lead to an opportunity for investments.\n-  Study coffee shops types, franchise or not, and study their statistical characteristics such as their mean rating.\n\nBased on the above study, one can formulate an idea of what makes a coffee shop special and what locations may be ideal for a coffee shop business.", 
            "cell_type": "markdown", 
            "metadata": {}
        }, 
        {
            "source": "", 
            "cell_type": "code", 
            "metadata": {}, 
            "outputs": [], 
            "execution_count": null
        }
    ], 
    "metadata": {
        "kernelspec": {
            "display_name": "Python 3.5 with Spark", 
            "name": "python3", 
            "language": "python3"
        }
    }, 
    "nbformat": 4
}