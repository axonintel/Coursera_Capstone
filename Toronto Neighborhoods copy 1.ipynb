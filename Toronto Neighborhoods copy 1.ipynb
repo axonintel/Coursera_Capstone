{
    "nbformat_minor": 1, 
    "cells": [
        {
            "source": "import requests\nfrom bs4 import BeautifulSoup\n\nwebsite_url = requests.get('https://en.wikipedia.org/wiki/List_of_postal_codes_of_Canada:_M').text\nsoup = BeautifulSoup(website_url,'lxml')", 
            "cell_type": "code", 
            "metadata": {}, 
            "outputs": [], 
            "execution_count": 1
        }, 
        {
            "source": "Scraping the url is next", 
            "cell_type": "markdown", 
            "metadata": {}
        }, 
        {
            "source": "parsed_table_data = []\nmyTable = soup.find('table',{'class':'wikitable sortable'})\nrows = myTable.findAll('tr')\nfor row in rows:\n    children = row.findChildren(recursive=False)\n    row_text = []\n    for child in children:\n        clean_text = child.text\n        #This is to discard reference/citation links\n        clean_text = clean_text.split('&#91;')[0]\n        #This is to clean the header row of the sort icons\n        clean_text = clean_text.split('&#160;')[-1]\n        clean_text = clean_text.strip()\n        row_text.append(clean_text)\n    parsed_table_data.append(row_text)\n", 
            "cell_type": "code", 
            "metadata": {}, 
            "outputs": [], 
            "execution_count": 2
        }, 
        {
            "source": "After cleaning the data, let's take a look at the obtained list:", 
            "cell_type": "markdown", 
            "metadata": {}
        }, 
        {
            "source": "parsed_table_data[0:5]", 
            "cell_type": "code", 
            "metadata": {}, 
            "outputs": [
                {
                    "execution_count": 3, 
                    "output_type": "execute_result", 
                    "data": {
                        "text/plain": "[['Postcode', 'Borough', 'Neighbourhood'],\n ['M1A', 'Not assigned', 'Not assigned'],\n ['M2A', 'Not assigned', 'Not assigned'],\n ['M3A', 'North York', 'Parkwoods'],\n ['M4A', 'North York', 'Victoria Village']]"
                    }, 
                    "metadata": {}
                }
            ], 
            "execution_count": 3
        }, 
        {
            "source": "Now let's convert it to a dataframe. The dataframe will consist of three columns: PostalCode, Borough, and Neighborhood", 
            "cell_type": "markdown", 
            "metadata": {}
        }, 
        {
            "source": "import pandas as pd\ncolumns_names = ['PostalCode', 'Borough', 'Neighbourhood']\ndf = pd.DataFrame(parsed_table_data,columns = columns_names)\ndf = df.drop([0])\ndf.head()", 
            "cell_type": "code", 
            "metadata": {}, 
            "outputs": [], 
            "execution_count": null
        }, 
        {
            "source": "Let's only process the cells that have an assigned borough. Ignore cells with a borough that is Not assigned.", 
            "cell_type": "markdown", 
            "metadata": {}
        }, 
        {
            "source": "df = df[df.Borough != 'Not assigned']\ndf.head(10)", 
            "cell_type": "code", 
            "metadata": {}, 
            "outputs": [], 
            "execution_count": null
        }, 
        {
            "source": "If a cell has a borough but a Not assigned neighborhood, then the neighborhood will be the same as the borough. ", 
            "cell_type": "markdown", 
            "metadata": {}
        }, 
        {
            "source": " df.loc[df.Neighbourhood == 'Not assigned',['Borough']]['Borough']", 
            "cell_type": "code", 
            "metadata": {}, 
            "outputs": [], 
            "execution_count": null
        }, 
        {
            "source": "df.loc[df.Neighbourhood == 'Not assigned',['Neighbourhood']] =  df.loc[df.Neighbourhood == 'Not assigned',['Borough']]['Borough']\ndf.head(10)", 
            "cell_type": "code", 
            "metadata": {}, 
            "outputs": [], 
            "execution_count": null
        }, 
        {
            "source": "If more than one neighborhood can exist in one postal code area, these will be combined into one row with the neighborhoods separated with a comma.", 
            "cell_type": "markdown", 
            "metadata": {}
        }, 
        {
            "source": "df = df.groupby(['PostalCode','Borough']).agg(lambda x: ','.join(set(x))).reset_index()", 
            "cell_type": "code", 
            "metadata": {}, 
            "outputs": [], 
            "execution_count": null
        }, 
        {
            "source": "df.head(10)", 
            "cell_type": "code", 
            "metadata": {}, 
            "outputs": [], 
            "execution_count": null
        }, 
        {
            "source": "df.shape", 
            "cell_type": "code", 
            "metadata": {}, 
            "outputs": [], 
            "execution_count": null
        }, 
        {
            "source": "", 
            "cell_type": "code", 
            "metadata": {}, 
            "outputs": [], 
            "execution_count": null
        }
    ], 
    "metadata": {
        "kernelspec": {
            "display_name": "Python 3.5", 
            "name": "python3", 
            "language": "python"
        }, 
        "language_info": {
            "mimetype": "text/x-python", 
            "nbconvert_exporter": "python", 
            "version": "3.5.5", 
            "name": "python", 
            "pygments_lexer": "ipython3", 
            "file_extension": ".py", 
            "codemirror_mode": {
                "version": 3, 
                "name": "ipython"
            }
        }
    }, 
    "nbformat": 4
}